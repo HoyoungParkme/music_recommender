{
 "cells": [
  {
   "cell_type": "code",
   "execution_count": 47,
   "metadata": {},
   "outputs": [
    {
     "name": "stdout",
     "output_type": "stream",
     "text": [
      "Requirement already satisfied: spotipy in c:\\users\\admin\\anaconda3\\lib\\site-packages (2.24.0)\n",
      "Requirement already satisfied: pandas in c:\\users\\admin\\anaconda3\\lib\\site-packages (2.0.3)\n",
      "Requirement already satisfied: redis>=3.5.3 in c:\\users\\admin\\anaconda3\\lib\\site-packages (from spotipy) (5.0.6)\n",
      "Requirement already satisfied: requests>=2.25.0 in c:\\users\\admin\\anaconda3\\lib\\site-packages (from spotipy) (2.31.0)\n",
      "Requirement already satisfied: urllib3>=1.26.0 in c:\\users\\admin\\anaconda3\\lib\\site-packages (from spotipy) (1.26.16)\n",
      "Requirement already satisfied: python-dateutil>=2.8.2 in c:\\users\\admin\\anaconda3\\lib\\site-packages (from pandas) (2.8.2)\n",
      "Requirement already satisfied: pytz>=2020.1 in c:\\users\\admin\\anaconda3\\lib\\site-packages (from pandas) (2023.3.post1)\n",
      "Requirement already satisfied: tzdata>=2022.1 in c:\\users\\admin\\anaconda3\\lib\\site-packages (from pandas) (2023.3)\n",
      "Requirement already satisfied: numpy>=1.21.0 in c:\\users\\admin\\anaconda3\\lib\\site-packages (from pandas) (1.24.3)\n",
      "Requirement already satisfied: six>=1.5 in c:\\users\\admin\\anaconda3\\lib\\site-packages (from python-dateutil>=2.8.2->pandas) (1.16.0)\n",
      "Requirement already satisfied: charset-normalizer<4,>=2 in c:\\users\\admin\\anaconda3\\lib\\site-packages (from requests>=2.25.0->spotipy) (2.0.4)\n",
      "Requirement already satisfied: idna<4,>=2.5 in c:\\users\\admin\\anaconda3\\lib\\site-packages (from requests>=2.25.0->spotipy) (3.4)\n",
      "Requirement already satisfied: certifi>=2017.4.17 in c:\\users\\admin\\anaconda3\\lib\\site-packages (from requests>=2.25.0->spotipy) (2024.2.2)\n",
      "Note: you may need to restart the kernel to use updated packages.\n"
     ]
    }
   ],
   "source": [
    "%pip install spotipy pandas"
   ]
  },
  {
   "cell_type": "code",
   "execution_count": 48,
   "metadata": {},
   "outputs": [
    {
     "name": "stdout",
     "output_type": "stream",
     "text": [
      "Requirement already satisfied: spotipy in c:\\users\\admin\\anaconda3\\lib\\site-packages (2.24.0)\n",
      "Requirement already satisfied: pandas in c:\\users\\admin\\anaconda3\\lib\\site-packages (2.0.3)\n",
      "Requirement already satisfied: lyricsgenius in c:\\users\\admin\\anaconda3\\lib\\site-packages (3.0.1)\n",
      "Requirement already satisfied: redis>=3.5.3 in c:\\users\\admin\\anaconda3\\lib\\site-packages (from spotipy) (5.0.6)\n",
      "Requirement already satisfied: requests>=2.25.0 in c:\\users\\admin\\anaconda3\\lib\\site-packages (from spotipy) (2.31.0)\n",
      "Requirement already satisfied: urllib3>=1.26.0 in c:\\users\\admin\\anaconda3\\lib\\site-packages (from spotipy) (1.26.16)\n",
      "Requirement already satisfied: python-dateutil>=2.8.2 in c:\\users\\admin\\anaconda3\\lib\\site-packages (from pandas) (2.8.2)\n",
      "Requirement already satisfied: pytz>=2020.1 in c:\\users\\admin\\anaconda3\\lib\\site-packages (from pandas) (2023.3.post1)\n",
      "Requirement already satisfied: tzdata>=2022.1 in c:\\users\\admin\\anaconda3\\lib\\site-packages (from pandas) (2023.3)\n",
      "Requirement already satisfied: numpy>=1.21.0 in c:\\users\\admin\\anaconda3\\lib\\site-packages (from pandas) (1.24.3)\n",
      "Requirement already satisfied: beautifulsoup4>=4.6.0 in c:\\users\\admin\\anaconda3\\lib\\site-packages (from lyricsgenius) (4.12.2)\n",
      "Requirement already satisfied: soupsieve>1.2 in c:\\users\\admin\\anaconda3\\lib\\site-packages (from beautifulsoup4>=4.6.0->lyricsgenius) (2.4)\n",
      "Requirement already satisfied: six>=1.5 in c:\\users\\admin\\anaconda3\\lib\\site-packages (from python-dateutil>=2.8.2->pandas) (1.16.0)\n",
      "Requirement already satisfied: charset-normalizer<4,>=2 in c:\\users\\admin\\anaconda3\\lib\\site-packages (from requests>=2.25.0->spotipy) (2.0.4)\n",
      "Requirement already satisfied: idna<4,>=2.5 in c:\\users\\admin\\anaconda3\\lib\\site-packages (from requests>=2.25.0->spotipy) (3.4)\n",
      "Requirement already satisfied: certifi>=2017.4.17 in c:\\users\\admin\\anaconda3\\lib\\site-packages (from requests>=2.25.0->spotipy) (2024.2.2)\n",
      "Note: you may need to restart the kernel to use updated packages.\n"
     ]
    }
   ],
   "source": [
    "%pip install spotipy pandas lyricsgenius"
   ]
  },
  {
   "cell_type": "code",
   "execution_count": 55,
   "metadata": {},
   "outputs": [],
   "source": [
    "import os\n",
    "import pandas as pd\n",
    "from spotipy.oauth2 import SpotifyClientCredentials\n",
    "import spotipy\n",
    "import lyricsgenius\n",
    "import re\n",
    "\n",
    "def load_spotify_credentials(file_path):\n",
    "    credentials = {}\n",
    "    with open(file_path, 'r') as file:\n",
    "        for line in file:\n",
    "            key, value = line.strip().split('=')\n",
    "            credentials[key] = value\n",
    "    return credentials\n",
    "\n",
    "# 프로젝트 루트 디렉토리 설정\n",
    "project_root = os.path.abspath(os.path.join(os.getcwd(), '..'))\n",
    "\n",
    "# credentials.txt 파일 경로 설정\n",
    "credentials_file = os.path.join(project_root, 'spotify_credentials.txt')\n",
    "\n",
    "# 인증 정보 불러오기\n",
    "credentials = load_spotify_credentials(credentials_file)\n",
    "client_id = credentials['client_id']\n",
    "client_secret = credentials['client_secret']\n",
    "\n",
    "# Spotify API 인증 객체 생성\n",
    "client_credentials_manager = SpotifyClientCredentials(client_id=client_id, client_secret=client_secret)\n",
    "sp = spotipy.Spotify(client_credentials_manager=client_credentials_manager)"
   ]
  },
  {
   "cell_type": "code",
   "execution_count": 56,
   "metadata": {},
   "outputs": [],
   "source": [
    "# Genius API 설정\n",
    "genius = lyricsgenius.Genius(\"your_genius_api_key\")"
   ]
  },
  {
   "cell_type": "code",
   "execution_count": 57,
   "metadata": {},
   "outputs": [],
   "source": [
    "# 최신 노래 데이터 수집 함수\n",
    "def get_new_releases(limit=1000):\n",
    "    results = sp.new_releases(country='US', limit=limit)\n",
    "    albums = [{'name': album['name'], 'artist': album['artists'][0]['name']} for album in results['albums']['items']]\n",
    "    return albums\n",
    "\n",
    "# 가사 수집 함수\n",
    "def get_lyrics(song_title, artist_name):\n",
    "    try:\n",
    "        song = genius.search_song(song_title, artist_name)\n",
    "        return song.lyrics if song else \"\"\n",
    "    except Exception as e:\n",
    "        return \"\"\n",
    "    \n",
    "# 파일 이름 정리 함수\n",
    "def clean_filename(filename):\n",
    "    return re.sub(r'[<>:\"/\\\\|?*]', '', filename)"
   ]
  },
  {
   "cell_type": "code",
   "execution_count": 58,
   "metadata": {},
   "outputs": [
    {
     "name": "stdout",
     "output_type": "stream",
     "text": [
      "Searching for \"Louder\" by Elephant Kind...\n",
      "Done.\n",
      "Searching for \"Roadtrip\" by Ardhito Pramono...\n",
      "No results found for: 'Roadtrip Ardhito Pramono'\n",
      "Searching for \"CANDYRELLA\" by Paul Partohap...\n",
      "No results found for: 'CANDYRELLA Paul Partohap'\n",
      "Searching for \"Give All\" by NUZB...\n",
      "Done.\n",
      "Searching for \"I Believe\" by Bassjackers...\n",
      "Done.\n",
      "Searching for \"Both Ways\" by The Script...\n",
      "Done.\n",
      "Searching for \"High On Love\" by Armin van Buuren...\n",
      "Done.\n",
      "Searching for \"Chase It (Mmm Da Da Da)\" by Bebe Rexha...\n",
      "Done.\n",
      "Searching for \"Save My Soul (feat. Jordan Grace)\" by Afroki...\n",
      "Done.\n",
      "Searching for \"My City (feat. Katy Tiz)\" by Tiësto...\n",
      "Done.\n",
      "Searching for \"May flowers\" by LIU KOI...\n",
      "Done.\n",
      "Searching for \"Drive ft. KIDDO\" by Steve Aoki...\n",
      "Done.\n",
      "Searching for \"All the Things She Said\" by Robin Schulz...\n",
      "Done.\n",
      "Searching for \"Day 0 (feat. Dame D.O.L.L.A.)\" by MIRROR...\n",
      "Done.\n",
      "Searching for \"Devotion\" by KSHMR...\n",
      "Done.\n",
      "Searching for \"waiting for you\" by Jasmine Kelly...\n",
      "Done.\n",
      "Searching for \"Insomnia\" by Eve...\n",
      "Specified song does not contain lyrics. Rejecting.\n",
      "Searching for \"Get Lower\" by Steve Aoki...\n",
      "Done.\n",
      "Searching for \"Never Be Lonely\" by Jax Jones...\n",
      "Done.\n",
      "Searching for \"We Can't Stop\" by AFROJACK...\n",
      "Done.\n",
      "Searching for \"crush\" by Alaina Castillo...\n",
      "Done.\n",
      "Searching for \"Drop 7\" by Little Simz...\n",
      "Done.\n",
      "Searching for \"Perfect (Exceeder)\" by David Guetta...\n",
      "Done.\n",
      "Searching for \"Thrill Again\" by ZHU...\n",
      "Done.\n",
      "Searching for \"HELLO (from The Tiger's Apprentice)\" by ATARASHII GAKKO!...\n",
      "No results found for: 'HELLO (from The Tiger's Apprentice) ATARASHII GAKKO!'\n",
      "Searching for \"Please\" by NYK...\n",
      "Done.\n",
      "Searching for \"problems\" by Reikko...\n",
      "Done.\n",
      "Searching for \"Take Me\" by Dreane...\n",
      "Done.\n",
      "Searching for \"BORDER ROOM\" by noui...\n",
      "Done.\n",
      "Searching for \"Sweet Hurting\" by GANGGA...\n",
      "Done.\n",
      "Searching for \"Forever Was Never Enough\" by Peder Elias...\n",
      "Done.\n",
      "Searching for \"WTF R U!?\" by Don Diablo...\n",
      "Done.\n",
      "Searching for \"Head Up\" by Cheat Codes...\n",
      "Done.\n",
      "Searching for \"Black Friday\" by Tom Odell...\n",
      "Done.\n",
      "Searching for \"Wall Of Eyes\" by The Smile...\n",
      "Done.\n",
      "Searching for \"Swapping Socks\" by Andr...\n",
      "Done.\n",
      "Searching for \"Rest Of My Life\" by Jonas Blue...\n",
      "Done.\n",
      "Searching for \"Who I Am\" by Alan Walker...\n",
      "Done.\n",
      "Searching for \"All My Life\" by Tiësto...\n",
      "Done.\n",
      "Searching for \"like that x4\" by KIRE...\n",
      "Done.\n",
      "Searching for \"Catalyst.\" by Weird Genius...\n",
      "Done.\n",
      "Searching for \"THE WAY YOU MOVE\" by GAC (Gamaliél Audrey Cantika)...\n",
      "Done.\n",
      "Searching for \"Love Distance\" by Ardhito Pramono...\n",
      "Done.\n",
      "Searching for \"Nothing Else Feels The Same\" by LOONY...\n",
      "Done.\n",
      "Searching for \"Club Romantech (Deluxe)\" by Icona Pop...\n",
      "Done.\n",
      "Searching for \"Release Me\" by Mark Knight...\n",
      "Specified song does not contain lyrics. Rejecting.\n",
      "Searching for \"This Mixtape is Fire TOO\" by Dillon Francis...\n",
      "Done.\n",
      "Searching for \"Boomerang\" by Shi Shi...\n",
      "Done.\n",
      "Searching for \"King\" by Thomas Ng...\n",
      "Done.\n",
      "Searching for \"快樂王子 Happy Prince\" by Elephant Gym...\n",
      "No results found for: '快樂王子 Happy Prince Elephant Gym'\n"
     ]
    }
   ],
   "source": [
    "# 데이터 수집 및 가사 파일 저장\n",
    "albums = get_new_releases(limit=50)\n",
    "music_dir = os.path.join(project_root, 'data', 'music')\n",
    "os.makedirs(music_dir, exist_ok=True)\n",
    "\n",
    "for album in albums:\n",
    "    lyrics = get_lyrics(album['name'], album['artist'])\n",
    "    file_name = clean_filename(f\"{album['name']}.txt\")\n",
    "    file_path = os.path.join(music_dir, file_name)\n",
    "    with open(file_path, 'w', encoding='utf-8') as f:\n",
    "        f.write(lyrics)"
   ]
  },
  {
   "cell_type": "code",
   "execution_count": 59,
   "metadata": {},
   "outputs": [],
   "source": [
    "# DataFrame으로 변환 및 CSV 파일로 저장 (노래 제목과 아티스트 정보만 저장)\n",
    "df = pd.DataFrame(albums)\n",
    "output_path = os.path.join(project_root, 'data', 'new_releases.csv')\n",
    "df.to_csv(output_path, index=False)"
   ]
  }
 ],
 "metadata": {
  "kernelspec": {
   "display_name": "base",
   "language": "python",
   "name": "python3"
  },
  "language_info": {
   "codemirror_mode": {
    "name": "ipython",
    "version": 3
   },
   "file_extension": ".py",
   "mimetype": "text/x-python",
   "name": "python",
   "nbconvert_exporter": "python",
   "pygments_lexer": "ipython3",
   "version": "3.11.5"
  }
 },
 "nbformat": 4,
 "nbformat_minor": 2
}
