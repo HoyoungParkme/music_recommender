{
 "cells": [
  {
   "cell_type": "code",
   "execution_count": 10,
   "metadata": {},
   "outputs": [
    {
     "name": "stdout",
     "output_type": "stream",
     "text": [
      "모든 파일 이동 완료.\n"
     ]
    }
   ],
   "source": [
    "import os\n",
    "import shutil\n",
    "\n",
    "# 감정별 원본 폴더 및 대상 폴더 매핑\n",
    "emotion_folders = {\n",
    "    \"기쁨\": [\n",
    "        \"D:\\\\face_data\\\\Training\\\\[원천]EMOIMG_기쁨_TRAIN_01\",\n",
    "        \"D:\\\\face_data\\\\Training\\\\[원천]EMOIMG_기쁨_TRAIN_02\",\n",
    "        \"D:\\\\face_data\\\\Training\\\\[원천]EMOIMG_기쁨_TRAIN_03\",\n",
    "        \"D:\\\\face_data\\\\Training\\\\[원천]EMOIMG_기쁨_TRAIN_04\"\n",
    "    ],\n",
    "    \"당황\": [\n",
    "        \"D:\\\\face_data\\\\Training\\\\[원천]EMOIMG_당황_TRAIN_01\",\n",
    "        \"D:\\\\face_data\\\\Training\\\\[원천]EMOIMG_당황_TRAIN_02\",\n",
    "        \"D:\\\\face_data\\\\Training\\\\[원천]EMOIMG_당황_TRAIN_03\",\n",
    "        \"D:\\\\face_data\\\\Training\\\\[원천]EMOIMG_당황_TRAIN_04\"\n",
    "    ],\n",
    "    \"분노\": [\n",
    "        \"D:\\\\face_data\\\\Training\\\\[원천]EMOIMG_분노_TRAIN_01\",\n",
    "        \"D:\\\\face_data\\\\Training\\\\[원천]EMOIMG_분노_TRAIN_02\",\n",
    "        \"D:\\\\face_data\\\\Training\\\\[원천]EMOIMG_분노_TRAIN_03\",\n",
    "        \"D:\\\\face_data\\\\Training\\\\[원천]EMOIMG_분노_TRAIN_04\"\n",
    "    ],\n",
    "    \"불안\": [\n",
    "        \"D:\\\\face_data\\\\Training\\\\[원천]EMOIMG_불안_TRAIN_01\",\n",
    "        \"D:\\\\face_data\\\\Training\\\\[원천]EMOIMG_불안_TRAIN_02\",\n",
    "        \"D:\\\\face_data\\\\Training\\\\[원천]EMOIMG_불안_TRAIN_03\",\n",
    "        \"D:\\\\face_data\\\\Training\\\\[원천]EMOIMG_불안_TRAIN_04\"\n",
    "    ],\n",
    "    \"상처\": [\n",
    "        \"D:\\\\face_data\\\\Training\\\\[원천]EMOIMG_상처_TRAIN_01\",\n",
    "        \"D:\\\\face_data\\\\Training\\\\[원천]EMOIMG_상처_TRAIN_02\",\n",
    "        \"D:\\\\face_data\\\\Training\\\\[원천]EMOIMG_상처_TRAIN_03\",\n",
    "        \"D:\\\\face_data\\\\Training\\\\[원천]EMOIMG_상처_TRAIN_04\"\n",
    "    ],\n",
    "    \"슬픔\": [\n",
    "        \"D:\\\\face_data\\\\Training\\\\[원천]EMOIMG_슬픔_TRAIN_01\",\n",
    "        \"D:\\\\face_data\\\\Training\\\\[원천]EMOIMG_슬픔_TRAIN_02\",\n",
    "        \"D:\\\\face_data\\\\Training\\\\[원천]EMOIMG_슬픔_TRAIN_03\",\n",
    "        \"D:\\\\face_data\\\\Training\\\\[원천]EMOIMG_슬픔_TRAIN_04\"\n",
    "    ],\n",
    "    \"중립\": [\n",
    "        \"D:\\\\face_data\\\\Training\\\\[원천]EMOIMG_중립_TRAIN_01\",\n",
    "        \"D:\\\\face_data\\\\Training\\\\[원천]EMOIMG_중립_TRAIN_02\",\n",
    "        \"D:\\\\face_data\\\\Training\\\\[원천]EMOIMG_중립_TRAIN_03\",\n",
    "        \"D:\\\\face_data\\\\Training\\\\[원천]EMOIMG_중립_TRAIN_04\"\n",
    "    ]\n",
    "}\n",
    "\n",
    "# 각 감정 폴더에 대해 파일 이동\n",
    "for emotion, folders in emotion_folders.items():\n",
    "    destination_folder = f\"D:\\\\face_data\\\\Training\\\\{emotion}\"\n",
    "    \n",
    "    # 대상 폴더가 없으면 생성\n",
    "    if not os.path.exists(destination_folder):\n",
    "        os.makedirs(destination_folder)\n",
    "    \n",
    "    # 각 원본 폴더에서 파일 이동\n",
    "    for folder in folders:\n",
    "        for filename in os.listdir(folder):\n",
    "            source_file = os.path.join(folder, filename)\n",
    "            destination_file = os.path.join(destination_folder, filename)\n",
    "            \n",
    "            if os.path.isfile(source_file):\n",
    "                shutil.move(source_file, destination_file)\n",
    "            else:\n",
    "                print(f\"{source_file} is not a file.\")\n",
    "\n",
    "print(\"모든 파일 이동 완료.\")"
   ]
  }
 ],
 "metadata": {
  "kernelspec": {
   "display_name": "base",
   "language": "python",
   "name": "python3"
  },
  "language_info": {
   "codemirror_mode": {
    "name": "ipython",
    "version": 3
   },
   "file_extension": ".py",
   "mimetype": "text/x-python",
   "name": "python",
   "nbconvert_exporter": "python",
   "pygments_lexer": "ipython3",
   "version": "3.11.5"
  }
 },
 "nbformat": 4,
 "nbformat_minor": 2
}
